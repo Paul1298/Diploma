{
 "cells": [
  {
   "cell_type": "code",
   "execution_count": 1,
   "metadata": {},
   "outputs": [
    {
     "data": {
      "text/html": [
       "<style>.container { width:90% !important; }</style>"
      ],
      "text/plain": [
       "<IPython.core.display.HTML object>"
      ]
     },
     "metadata": {},
     "output_type": "display_data"
    }
   ],
   "source": [
    "from IPython.core.display import display, HTML\n",
    "display(HTML(\"<style>.container { width:90% !important; }</style>\"))"
   ]
  },
  {
   "cell_type": "code",
   "execution_count": 2,
   "metadata": {},
   "outputs": [],
   "source": [
    "%matplotlib notebook\n",
    "import matplotlib.pyplot as plt\n",
    "import numpy as np\n",
    "\n",
    "import moments\n",
    "# In demographic_models.py, we've defined a custom model for this problem\n",
    "import demographic_models\n",
    "\n",
    "import GPy\n",
    "import GPyOpt\n",
    "from GPyOpt.methods import BayesianOptimization\n",
    "\n",
    "from functools import partial\n",
    "\n",
    "import pandas as pd"
   ]
  },
  {
   "cell_type": "code",
   "execution_count": 3,
   "metadata": {},
   "outputs": [],
   "source": [
    "# Load the data\n",
    "data = moments.Spectrum.from_file('YRI_CEU.fs')\n",
    "ns = data.sample_sizes"
   ]
  },
  {
   "cell_type": "code",
   "execution_count": 4,
   "metadata": {},
   "outputs": [],
   "source": [
    "popt = np.array([1.881, 0.0710, 1.845, 0.911, 0.355, 0.111])\n",
    "\n",
    "#Define the objective function\n",
    "def obj_func(is_log, i, parameter_set):\n",
    "    # We'll work with YRI_CEU custom model\n",
    "    func = demographic_models.prior_onegrow_mig\n",
    "    \n",
    "    lls = []\n",
    "    parameters = popt.copy()\n",
    "    for parameter in parameter_set:\n",
    "        # Calculate the model AFS.\n",
    "        \n",
    "        if is_log: \n",
    "            parameter = np.exp(parameter)\n",
    "        parameters[i] = parameter\n",
    "        \n",
    "        model = func(parameters, ns)\n",
    "        \n",
    "        # Likelihood of the data given the model AFS.\n",
    "        ll_model = moments.Inference.ll_multinom(model, data)\n",
    "        \n",
    "        lls.append([-ll_model])  # minus for maximization\n",
    "    return np.array(lls)"
   ]
  },
  {
   "cell_type": "code",
   "execution_count": 5,
   "metadata": {},
   "outputs": [],
   "source": [
    "# The upper_bound and lower_bound lists are for use in optimization.\n",
    "# Occasionally the optimizer will try wacky parameter values. We in particular\n",
    "# want to exclude values with very long times, very small population sizes, or\n",
    "# very high migration rates, as they will take a long time to evaluate.\n",
    "# Parameters are: (nu1F, nu2B, nu2F, m, Tp, T)\n",
    "upper_bound = np.array([100, 100, 100, 10, 3, 3])\n",
    "\n",
    "# add 1e-5 to last three values to shift from zero value\n",
    "lower_bound = np.array([1e-2, 1e-2, 1e-2, 1e-5, 1e-5, 1e-5])"
   ]
  },
  {
   "cell_type": "code",
   "execution_count": 6,
   "metadata": {},
   "outputs": [],
   "source": [
    "domain = np.array([{'name': 'X' + str(bd), 'type': 'continuous', 'domain': bd} \n",
    "                   for bd in zip(lower_bound, upper_bound)])"
   ]
  },
  {
   "cell_type": "code",
   "execution_count": 7,
   "metadata": {},
   "outputs": [],
   "source": [
    "# This is our initial guess for the parameters, which is somewhat arbitrary.\n",
    "p0 = np.array([[2, 0.1, 2, 1, 0.2, 0.2]])"
   ]
  },
  {
   "cell_type": "code",
   "execution_count": 8,
   "metadata": {},
   "outputs": [],
   "source": [
    "up_log = np.log(upper_bound)\n",
    "lo_log = np.log(lower_bound)\n",
    "\n",
    "dom_log = np.array([{'name': 'X' + str(bd), 'type': 'continuous', 'domain': bd} \n",
    "                   for bd in zip(lo_log, up_log)])\n",
    "p0_log = np.log(p0)"
   ]
  },
  {
   "cell_type": "code",
   "execution_count": 22,
   "metadata": {},
   "outputs": [],
   "source": [
    "def calc(is_log, i, max_time=30, max_iter=100):\n",
    "    print('Calculation for %d started' % i)\n",
    "    bo = BayesianOptimization(f=partial(obj_func, is_log, i), \n",
    "                              domain=[dom_log[i] if is_log else domain[i]],\n",
    "                              model_type='GP',\n",
    "                              kernel=GPy.kern.Matern52(input_dim=1), # one param opt\n",
    "                              acquisition_type ='EI'\n",
    "                             )\n",
    "\n",
    "    filename = 'evaluations/%d_%d%s.csv' % (max_time, i, 'log' if is_log else '')\n",
    "    \n",
    "    bo.run_optimization(max_time=max_time, max_iter=max_iter, evaluations_file=filename)\n",
    "#     bo.run_optimization(max_time=max_time, max_iter=max_iter, eps = tolerance, verbosity=True)\n",
    "    print('\\t Calculation for %d done' % i)\n",
    "    return bo"
   ]
  },
  {
   "cell_type": "code",
   "execution_count": 11,
   "metadata": {},
   "outputs": [],
   "source": [
    "def draw(is_log, bo):\n",
    "#     bo.plot_acquisition()\n",
    "    bo.plot_convergence()\n",
    "    \n",
    "    x_opt = np.exp(bo.x_opt) if is_log else bo.x_opt\n",
    "    print 'The minumum value obtained by the function was %.4f (x = %s)' % (-bo.fx_opt, np.array2string(x_opt))"
   ]
  },
  {
   "cell_type": "code",
   "execution_count": 12,
   "metadata": {},
   "outputs": [],
   "source": [
    "# bos = [calc(False, i) for i in range(p0.shape[1])]"
   ]
  },
  {
   "cell_type": "code",
   "execution_count": 13,
   "metadata": {
    "scrolled": true
   },
   "outputs": [],
   "source": [
    "# bo_logs = [calc(True, i) for i in range(p0.shape[1])]"
   ]
  },
  {
   "cell_type": "code",
   "execution_count": 14,
   "metadata": {},
   "outputs": [],
   "source": [
    "evals = [pd.DataFrame.from_csv('evaluations/%d.csv' % i, sep='\\t') for i in range(p0.shape[1])]"
   ]
  },
  {
   "cell_type": "code",
   "execution_count": 15,
   "metadata": {},
   "outputs": [],
   "source": [
    "eval_logs = [pd.DataFrame.from_csv('evaluations/%dlog.csv' % i, sep='\\t') for i in range(p0.shape[1])]"
   ]
  },
  {
   "cell_type": "code",
   "execution_count": 16,
   "metadata": {},
   "outputs": [],
   "source": [
    "get_bo_pars = lambda x: (x.model_parameters_iterations.shape[0], -x.fx_opt)\n",
    "get_eval_pars = lambda x: (x.shape[0], -x['Y'].min())\n",
    "\n",
    "columns = ['Iters', 'Max value', 'Log iters', 'Log max']\n",
    "index = 'nu1F, nu2B, nu2F, m, Tp, T'.split(', ')\n",
    "\n",
    "# df = pd.DataFrame(np.hstack((map(get_bo_pars, bos), map(get_bo_pars, bo_logs))), index=index, columns=columns)\n",
    "df = pd.DataFrame(np.hstack((map(get_eval_pars, evals), map(get_eval_pars, eval_logs))), index=index, columns=columns)"
   ]
  },
  {
   "cell_type": "markdown",
   "metadata": {},
   "source": [
    "### 30 secs evaluations result for one parameter optimization"
   ]
  },
  {
   "cell_type": "code",
   "execution_count": 17,
   "metadata": {},
   "outputs": [
    {
     "data": {
      "text/html": [
       "<style  type=\"text/css\" >\n",
       "    #T_02da943e_440c_11ea_9fcd_7470fdac25a1row0_col1 {\n",
       "            background-color:  lightgreen;\n",
       "        }    #T_02da943e_440c_11ea_9fcd_7470fdac25a1row1_col3 {\n",
       "            background-color:  lightgreen;\n",
       "        }    #T_02da943e_440c_11ea_9fcd_7470fdac25a1row2_col3 {\n",
       "            background-color:  lightgreen;\n",
       "        }    #T_02da943e_440c_11ea_9fcd_7470fdac25a1row3_col3 {\n",
       "            background-color:  lightgreen;\n",
       "        }    #T_02da943e_440c_11ea_9fcd_7470fdac25a1row4_col1 {\n",
       "            background-color:  lightgreen;\n",
       "        }    #T_02da943e_440c_11ea_9fcd_7470fdac25a1row5_col3 {\n",
       "            background-color:  lightgreen;\n",
       "        }</style><table id=\"T_02da943e_440c_11ea_9fcd_7470fdac25a1\" ><thead>    <tr>        <th class=\"blank level0\" ></th>        <th class=\"col_heading level0 col0\" >Iters</th>        <th class=\"col_heading level0 col1\" >Max value</th>        <th class=\"col_heading level0 col2\" >Log iters</th>        <th class=\"col_heading level0 col3\" >Log max</th>    </tr></thead><tbody>\n",
       "                <tr>\n",
       "                        <th id=\"T_02da943e_440c_11ea_9fcd_7470fdac25a1level0_row0\" class=\"row_heading level0 row0\" >nu1F</th>\n",
       "                        <td id=\"T_02da943e_440c_11ea_9fcd_7470fdac25a1row0_col0\" class=\"data row0 col0\" >37</td>\n",
       "                        <td id=\"T_02da943e_440c_11ea_9fcd_7470fdac25a1row0_col1\" class=\"data row0 col1\" >-1068.02</td>\n",
       "                        <td id=\"T_02da943e_440c_11ea_9fcd_7470fdac25a1row0_col2\" class=\"data row0 col2\" >38</td>\n",
       "                        <td id=\"T_02da943e_440c_11ea_9fcd_7470fdac25a1row0_col3\" class=\"data row0 col3\" >-1070.05</td>\n",
       "            </tr>\n",
       "            <tr>\n",
       "                        <th id=\"T_02da943e_440c_11ea_9fcd_7470fdac25a1level0_row1\" class=\"row_heading level0 row1\" >nu2B</th>\n",
       "                        <td id=\"T_02da943e_440c_11ea_9fcd_7470fdac25a1row1_col0\" class=\"data row1 col0\" >38</td>\n",
       "                        <td id=\"T_02da943e_440c_11ea_9fcd_7470fdac25a1row1_col1\" class=\"data row1 col1\" >-1271.97</td>\n",
       "                        <td id=\"T_02da943e_440c_11ea_9fcd_7470fdac25a1row1_col2\" class=\"data row1 col2\" >31</td>\n",
       "                        <td id=\"T_02da943e_440c_11ea_9fcd_7470fdac25a1row1_col3\" class=\"data row1 col3\" >-1066.64</td>\n",
       "            </tr>\n",
       "            <tr>\n",
       "                        <th id=\"T_02da943e_440c_11ea_9fcd_7470fdac25a1level0_row2\" class=\"row_heading level0 row2\" >nu2F</th>\n",
       "                        <td id=\"T_02da943e_440c_11ea_9fcd_7470fdac25a1row2_col0\" class=\"data row2 col0\" >32</td>\n",
       "                        <td id=\"T_02da943e_440c_11ea_9fcd_7470fdac25a1row2_col1\" class=\"data row2 col1\" >-1405.17</td>\n",
       "                        <td id=\"T_02da943e_440c_11ea_9fcd_7470fdac25a1row2_col2\" class=\"data row2 col2\" >30</td>\n",
       "                        <td id=\"T_02da943e_440c_11ea_9fcd_7470fdac25a1row2_col3\" class=\"data row2 col3\" >-1066.68</td>\n",
       "            </tr>\n",
       "            <tr>\n",
       "                        <th id=\"T_02da943e_440c_11ea_9fcd_7470fdac25a1level0_row3\" class=\"row_heading level0 row3\" >m</th>\n",
       "                        <td id=\"T_02da943e_440c_11ea_9fcd_7470fdac25a1row3_col0\" class=\"data row3 col0\" >36</td>\n",
       "                        <td id=\"T_02da943e_440c_11ea_9fcd_7470fdac25a1row3_col1\" class=\"data row3 col1\" >-1067.5</td>\n",
       "                        <td id=\"T_02da943e_440c_11ea_9fcd_7470fdac25a1row3_col2\" class=\"data row3 col2\" >33</td>\n",
       "                        <td id=\"T_02da943e_440c_11ea_9fcd_7470fdac25a1row3_col3\" class=\"data row3 col3\" >-1066.65</td>\n",
       "            </tr>\n",
       "            <tr>\n",
       "                        <th id=\"T_02da943e_440c_11ea_9fcd_7470fdac25a1level0_row4\" class=\"row_heading level0 row4\" >Tp</th>\n",
       "                        <td id=\"T_02da943e_440c_11ea_9fcd_7470fdac25a1row4_col0\" class=\"data row4 col0\" >36</td>\n",
       "                        <td id=\"T_02da943e_440c_11ea_9fcd_7470fdac25a1row4_col1\" class=\"data row4 col1\" >-1066.81</td>\n",
       "                        <td id=\"T_02da943e_440c_11ea_9fcd_7470fdac25a1row4_col2\" class=\"data row4 col2\" >31</td>\n",
       "                        <td id=\"T_02da943e_440c_11ea_9fcd_7470fdac25a1row4_col3\" class=\"data row4 col3\" >-1066.83</td>\n",
       "            </tr>\n",
       "            <tr>\n",
       "                        <th id=\"T_02da943e_440c_11ea_9fcd_7470fdac25a1level0_row5\" class=\"row_heading level0 row5\" >T</th>\n",
       "                        <td id=\"T_02da943e_440c_11ea_9fcd_7470fdac25a1row5_col0\" class=\"data row5 col0\" >34</td>\n",
       "                        <td id=\"T_02da943e_440c_11ea_9fcd_7470fdac25a1row5_col1\" class=\"data row5 col1\" >-1068.45</td>\n",
       "                        <td id=\"T_02da943e_440c_11ea_9fcd_7470fdac25a1row5_col2\" class=\"data row5 col2\" >41</td>\n",
       "                        <td id=\"T_02da943e_440c_11ea_9fcd_7470fdac25a1row5_col3\" class=\"data row5 col3\" >-1066.81</td>\n",
       "            </tr>\n",
       "    </tbody></table>"
      ],
      "text/plain": [
       "<pandas.io.formats.style.Styler at 0x7f2a9d14c610>"
      ]
     },
     "execution_count": 17,
     "metadata": {},
     "output_type": "execute_result"
    }
   ],
   "source": [
    "df.style.highlight_max(color='lightgreen', axis=1, subset=['Max value', 'Log max'])"
   ]
  },
  {
   "cell_type": "code",
   "execution_count": 23,
   "metadata": {
    "collapsed": true
   },
   "outputs": [
    {
     "name": "stdout",
     "output_type": "stream",
     "text": [
      "Calculation for 0 started\n",
      "\t Calculation for 0 done\n",
      "Calculation for 1 started\n",
      "\t Calculation for 1 done\n",
      "Calculation for 2 started\n",
      "\t Calculation for 2 done\n",
      "Calculation for 3 started\n",
      "\t Calculation for 3 done\n",
      "Calculation for 4 started\n",
      "\t Calculation for 4 done\n",
      "Calculation for 5 started\n",
      "\t Calculation for 5 done\n",
      "Calculation for 0 started\n",
      "\t Calculation for 0 done\n",
      "Calculation for 1 started\n",
      "\t Calculation for 1 done\n",
      "Calculation for 2 started\n",
      "\t Calculation for 2 done\n",
      "Calculation for 3 started\n",
      "\t Calculation for 3 done\n",
      "Calculation for 4 started\n",
      "\t Calculation for 4 done\n",
      "Calculation for 5 started\n",
      "\t Calculation for 5 done\n"
     ]
    }
   ],
   "source": [
    "bo60s = [calc(False, i, 60) for i in range(p0.shape[1])]\n",
    "bo60_logs = [calc(True, i, 60) for i in range(p0.shape[1])]"
   ]
  },
  {
   "cell_type": "code",
   "execution_count": 24,
   "metadata": {},
   "outputs": [],
   "source": [
    "df60 = pd.DataFrame(np.hstack((map(get_bo_pars, bo60s), map(get_bo_pars, bo60_logs))), index=index, columns=columns)"
   ]
  },
  {
   "cell_type": "markdown",
   "metadata": {},
   "source": [
    "### 60 secs evaluations result for one parameter optimization"
   ]
  },
  {
   "cell_type": "code",
   "execution_count": 25,
   "metadata": {},
   "outputs": [
    {
     "data": {
      "text/html": [
       "<style  type=\"text/css\" >\n",
       "    #T_4d8078a2_440f_11ea_9fcd_7470fdac25a1row0_col3 {\n",
       "            background-color:  lightgreen;\n",
       "        }    #T_4d8078a2_440f_11ea_9fcd_7470fdac25a1row1_col3 {\n",
       "            background-color:  lightgreen;\n",
       "        }    #T_4d8078a2_440f_11ea_9fcd_7470fdac25a1row2_col1 {\n",
       "            background-color:  lightgreen;\n",
       "        }    #T_4d8078a2_440f_11ea_9fcd_7470fdac25a1row3_col1 {\n",
       "            background-color:  lightgreen;\n",
       "        }    #T_4d8078a2_440f_11ea_9fcd_7470fdac25a1row4_col3 {\n",
       "            background-color:  lightgreen;\n",
       "        }    #T_4d8078a2_440f_11ea_9fcd_7470fdac25a1row5_col3 {\n",
       "            background-color:  lightgreen;\n",
       "        }</style><table id=\"T_4d8078a2_440f_11ea_9fcd_7470fdac25a1\" ><thead>    <tr>        <th class=\"blank level0\" ></th>        <th class=\"col_heading level0 col0\" >Iters</th>        <th class=\"col_heading level0 col1\" >Max value</th>        <th class=\"col_heading level0 col2\" >Log iters</th>        <th class=\"col_heading level0 col3\" >Log max</th>    </tr></thead><tbody>\n",
       "                <tr>\n",
       "                        <th id=\"T_4d8078a2_440f_11ea_9fcd_7470fdac25a1level0_row0\" class=\"row_heading level0 row0\" >nu1F</th>\n",
       "                        <td id=\"T_4d8078a2_440f_11ea_9fcd_7470fdac25a1row0_col0\" class=\"data row0 col0\" >53</td>\n",
       "                        <td id=\"T_4d8078a2_440f_11ea_9fcd_7470fdac25a1row0_col1\" class=\"data row0 col1\" >-1351.52</td>\n",
       "                        <td id=\"T_4d8078a2_440f_11ea_9fcd_7470fdac25a1row0_col2\" class=\"data row0 col2\" >45</td>\n",
       "                        <td id=\"T_4d8078a2_440f_11ea_9fcd_7470fdac25a1row0_col3\" class=\"data row0 col3\" >-1066.99</td>\n",
       "            </tr>\n",
       "            <tr>\n",
       "                        <th id=\"T_4d8078a2_440f_11ea_9fcd_7470fdac25a1level0_row1\" class=\"row_heading level0 row1\" >nu2B</th>\n",
       "                        <td id=\"T_4d8078a2_440f_11ea_9fcd_7470fdac25a1row1_col0\" class=\"data row1 col0\" >61</td>\n",
       "                        <td id=\"T_4d8078a2_440f_11ea_9fcd_7470fdac25a1row1_col1\" class=\"data row1 col1\" >-1148.37</td>\n",
       "                        <td id=\"T_4d8078a2_440f_11ea_9fcd_7470fdac25a1row1_col2\" class=\"data row1 col2\" >34</td>\n",
       "                        <td id=\"T_4d8078a2_440f_11ea_9fcd_7470fdac25a1row1_col3\" class=\"data row1 col3\" >-1069.17</td>\n",
       "            </tr>\n",
       "            <tr>\n",
       "                        <th id=\"T_4d8078a2_440f_11ea_9fcd_7470fdac25a1level0_row2\" class=\"row_heading level0 row2\" >nu2F</th>\n",
       "                        <td id=\"T_4d8078a2_440f_11ea_9fcd_7470fdac25a1row2_col0\" class=\"data row2 col0\" >46</td>\n",
       "                        <td id=\"T_4d8078a2_440f_11ea_9fcd_7470fdac25a1row2_col1\" class=\"data row2 col1\" >-1067.08</td>\n",
       "                        <td id=\"T_4d8078a2_440f_11ea_9fcd_7470fdac25a1row2_col2\" class=\"data row2 col2\" >35</td>\n",
       "                        <td id=\"T_4d8078a2_440f_11ea_9fcd_7470fdac25a1row2_col3\" class=\"data row2 col3\" >-1068.42</td>\n",
       "            </tr>\n",
       "            <tr>\n",
       "                        <th id=\"T_4d8078a2_440f_11ea_9fcd_7470fdac25a1level0_row3\" class=\"row_heading level0 row3\" >m</th>\n",
       "                        <td id=\"T_4d8078a2_440f_11ea_9fcd_7470fdac25a1row3_col0\" class=\"data row3 col0\" >43</td>\n",
       "                        <td id=\"T_4d8078a2_440f_11ea_9fcd_7470fdac25a1row3_col1\" class=\"data row3 col1\" >-1066.67</td>\n",
       "                        <td id=\"T_4d8078a2_440f_11ea_9fcd_7470fdac25a1row3_col2\" class=\"data row3 col2\" >35</td>\n",
       "                        <td id=\"T_4d8078a2_440f_11ea_9fcd_7470fdac25a1row3_col3\" class=\"data row3 col3\" >-1067.69</td>\n",
       "            </tr>\n",
       "            <tr>\n",
       "                        <th id=\"T_4d8078a2_440f_11ea_9fcd_7470fdac25a1level0_row4\" class=\"row_heading level0 row4\" >Tp</th>\n",
       "                        <td id=\"T_4d8078a2_440f_11ea_9fcd_7470fdac25a1row4_col0\" class=\"data row4 col0\" >42</td>\n",
       "                        <td id=\"T_4d8078a2_440f_11ea_9fcd_7470fdac25a1row4_col1\" class=\"data row4 col1\" >-1066.85</td>\n",
       "                        <td id=\"T_4d8078a2_440f_11ea_9fcd_7470fdac25a1row4_col2\" class=\"data row4 col2\" >37</td>\n",
       "                        <td id=\"T_4d8078a2_440f_11ea_9fcd_7470fdac25a1row4_col3\" class=\"data row4 col3\" >-1066.84</td>\n",
       "            </tr>\n",
       "            <tr>\n",
       "                        <th id=\"T_4d8078a2_440f_11ea_9fcd_7470fdac25a1level0_row5\" class=\"row_heading level0 row5\" >T</th>\n",
       "                        <td id=\"T_4d8078a2_440f_11ea_9fcd_7470fdac25a1row5_col0\" class=\"data row5 col0\" >30</td>\n",
       "                        <td id=\"T_4d8078a2_440f_11ea_9fcd_7470fdac25a1row5_col1\" class=\"data row5 col1\" >-1572.75</td>\n",
       "                        <td id=\"T_4d8078a2_440f_11ea_9fcd_7470fdac25a1row5_col2\" class=\"data row5 col2\" >60</td>\n",
       "                        <td id=\"T_4d8078a2_440f_11ea_9fcd_7470fdac25a1row5_col3\" class=\"data row5 col3\" >-1067.17</td>\n",
       "            </tr>\n",
       "    </tbody></table>"
      ],
      "text/plain": [
       "<pandas.io.formats.style.Styler at 0x7f2a9cb93b10>"
      ]
     },
     "execution_count": 25,
     "metadata": {},
     "output_type": "execute_result"
    }
   ],
   "source": [
    "df60.style.highlight_max(color='lightgreen', axis=1, subset=['Max value', 'Log max'])"
   ]
  },
  {
   "cell_type": "code",
   "execution_count": 26,
   "metadata": {},
   "outputs": [
    {
     "name": "stdout",
     "output_type": "stream",
     "text": [
      "Calculation for 0 started\n",
      "\t Calculation for 0 done\n",
      "Calculation for 1 started\n",
      "\t Calculation for 1 done\n",
      "Calculation for 2 started\n",
      "\t Calculation for 2 done\n",
      "Calculation for 3 started\n",
      "\t Calculation for 3 done\n",
      "Calculation for 4 started\n",
      "\t Calculation for 4 done\n",
      "Calculation for 5 started\n",
      "\t Calculation for 5 done\n",
      "Calculation for 0 started\n",
      "\t Calculation for 0 done\n",
      "Calculation for 1 started\n",
      "\t Calculation for 1 done\n",
      "Calculation for 2 started\n",
      "\t Calculation for 2 done\n",
      "Calculation for 3 started\n",
      "\t Calculation for 3 done\n",
      "Calculation for 4 started\n",
      "\t Calculation for 4 done\n",
      "Calculation for 5 started\n",
      "\t Calculation for 5 done\n"
     ]
    }
   ],
   "source": [
    "bo120s = [calc(False, i, 120) for i in range(p0.shape[1])]\n",
    "bo120_logs = [calc(True, i, 120) for i in range(p0.shape[1])]"
   ]
  },
  {
   "cell_type": "code",
   "execution_count": 28,
   "metadata": {},
   "outputs": [],
   "source": [
    "df120 = pd.DataFrame(np.hstack((map(get_bo_pars, bo120s), map(get_bo_pars, bo120_logs))), index=index, columns=columns)"
   ]
  },
  {
   "cell_type": "markdown",
   "metadata": {},
   "source": [
    "### 120 secs evaluations result for one parameter optimization"
   ]
  },
  {
   "cell_type": "code",
   "execution_count": 29,
   "metadata": {},
   "outputs": [
    {
     "data": {
      "text/html": [
       "<style  type=\"text/css\" >\n",
       "    #T_fa0a8844_4412_11ea_9fcd_7470fdac25a1row0_col3 {\n",
       "            background-color:  lightgreen;\n",
       "        }    #T_fa0a8844_4412_11ea_9fcd_7470fdac25a1row1_col3 {\n",
       "            background-color:  lightgreen;\n",
       "        }    #T_fa0a8844_4412_11ea_9fcd_7470fdac25a1row2_col3 {\n",
       "            background-color:  lightgreen;\n",
       "        }    #T_fa0a8844_4412_11ea_9fcd_7470fdac25a1row3_col3 {\n",
       "            background-color:  lightgreen;\n",
       "        }    #T_fa0a8844_4412_11ea_9fcd_7470fdac25a1row4_col3 {\n",
       "            background-color:  lightgreen;\n",
       "        }    #T_fa0a8844_4412_11ea_9fcd_7470fdac25a1row5_col1 {\n",
       "            background-color:  lightgreen;\n",
       "        }</style><table id=\"T_fa0a8844_4412_11ea_9fcd_7470fdac25a1\" ><thead>    <tr>        <th class=\"blank level0\" ></th>        <th class=\"col_heading level0 col0\" >Iters</th>        <th class=\"col_heading level0 col1\" >Max value</th>        <th class=\"col_heading level0 col2\" >Log iters</th>        <th class=\"col_heading level0 col3\" >Log max</th>    </tr></thead><tbody>\n",
       "                <tr>\n",
       "                        <th id=\"T_fa0a8844_4412_11ea_9fcd_7470fdac25a1level0_row0\" class=\"row_heading level0 row0\" >nu1F</th>\n",
       "                        <td id=\"T_fa0a8844_4412_11ea_9fcd_7470fdac25a1row0_col0\" class=\"data row0 col0\" >75</td>\n",
       "                        <td id=\"T_fa0a8844_4412_11ea_9fcd_7470fdac25a1row0_col1\" class=\"data row0 col1\" >-1110.84</td>\n",
       "                        <td id=\"T_fa0a8844_4412_11ea_9fcd_7470fdac25a1row0_col2\" class=\"data row0 col2\" >84</td>\n",
       "                        <td id=\"T_fa0a8844_4412_11ea_9fcd_7470fdac25a1row0_col3\" class=\"data row0 col3\" >-1068.66</td>\n",
       "            </tr>\n",
       "            <tr>\n",
       "                        <th id=\"T_fa0a8844_4412_11ea_9fcd_7470fdac25a1level0_row1\" class=\"row_heading level0 row1\" >nu2B</th>\n",
       "                        <td id=\"T_fa0a8844_4412_11ea_9fcd_7470fdac25a1row1_col0\" class=\"data row1 col0\" >70</td>\n",
       "                        <td id=\"T_fa0a8844_4412_11ea_9fcd_7470fdac25a1row1_col1\" class=\"data row1 col1\" >-1191.08</td>\n",
       "                        <td id=\"T_fa0a8844_4412_11ea_9fcd_7470fdac25a1row1_col2\" class=\"data row1 col2\" >63</td>\n",
       "                        <td id=\"T_fa0a8844_4412_11ea_9fcd_7470fdac25a1row1_col3\" class=\"data row1 col3\" >-1067.03</td>\n",
       "            </tr>\n",
       "            <tr>\n",
       "                        <th id=\"T_fa0a8844_4412_11ea_9fcd_7470fdac25a1level0_row2\" class=\"row_heading level0 row2\" >nu2F</th>\n",
       "                        <td id=\"T_fa0a8844_4412_11ea_9fcd_7470fdac25a1row2_col0\" class=\"data row2 col0\" >66</td>\n",
       "                        <td id=\"T_fa0a8844_4412_11ea_9fcd_7470fdac25a1row2_col1\" class=\"data row2 col1\" >-1108.7</td>\n",
       "                        <td id=\"T_fa0a8844_4412_11ea_9fcd_7470fdac25a1row2_col2\" class=\"data row2 col2\" >77</td>\n",
       "                        <td id=\"T_fa0a8844_4412_11ea_9fcd_7470fdac25a1row2_col3\" class=\"data row2 col3\" >-1066.85</td>\n",
       "            </tr>\n",
       "            <tr>\n",
       "                        <th id=\"T_fa0a8844_4412_11ea_9fcd_7470fdac25a1level0_row3\" class=\"row_heading level0 row3\" >m</th>\n",
       "                        <td id=\"T_fa0a8844_4412_11ea_9fcd_7470fdac25a1row3_col0\" class=\"data row3 col0\" >65</td>\n",
       "                        <td id=\"T_fa0a8844_4412_11ea_9fcd_7470fdac25a1row3_col1\" class=\"data row3 col1\" >-1067.15</td>\n",
       "                        <td id=\"T_fa0a8844_4412_11ea_9fcd_7470fdac25a1row3_col2\" class=\"data row3 col2\" >73</td>\n",
       "                        <td id=\"T_fa0a8844_4412_11ea_9fcd_7470fdac25a1row3_col3\" class=\"data row3 col3\" >-1066.64</td>\n",
       "            </tr>\n",
       "            <tr>\n",
       "                        <th id=\"T_fa0a8844_4412_11ea_9fcd_7470fdac25a1level0_row4\" class=\"row_heading level0 row4\" >Tp</th>\n",
       "                        <td id=\"T_fa0a8844_4412_11ea_9fcd_7470fdac25a1row4_col0\" class=\"data row4 col0\" >57</td>\n",
       "                        <td id=\"T_fa0a8844_4412_11ea_9fcd_7470fdac25a1row4_col1\" class=\"data row4 col1\" >-1066.83</td>\n",
       "                        <td id=\"T_fa0a8844_4412_11ea_9fcd_7470fdac25a1row4_col2\" class=\"data row4 col2\" >67</td>\n",
       "                        <td id=\"T_fa0a8844_4412_11ea_9fcd_7470fdac25a1row4_col3\" class=\"data row4 col3\" >-1066.81</td>\n",
       "            </tr>\n",
       "            <tr>\n",
       "                        <th id=\"T_fa0a8844_4412_11ea_9fcd_7470fdac25a1level0_row5\" class=\"row_heading level0 row5\" >T</th>\n",
       "                        <td id=\"T_fa0a8844_4412_11ea_9fcd_7470fdac25a1row5_col0\" class=\"data row5 col0\" >68</td>\n",
       "                        <td id=\"T_fa0a8844_4412_11ea_9fcd_7470fdac25a1row5_col1\" class=\"data row5 col1\" >-1066.57</td>\n",
       "                        <td id=\"T_fa0a8844_4412_11ea_9fcd_7470fdac25a1row5_col2\" class=\"data row5 col2\" >101</td>\n",
       "                        <td id=\"T_fa0a8844_4412_11ea_9fcd_7470fdac25a1row5_col3\" class=\"data row5 col3\" >-1067.64</td>\n",
       "            </tr>\n",
       "    </tbody></table>"
      ],
      "text/plain": [
       "<pandas.io.formats.style.Styler at 0x7f2a9ceece50>"
      ]
     },
     "execution_count": 29,
     "metadata": {},
     "output_type": "execute_result"
    }
   ],
   "source": [
    "df120.style.highlight_max(color='lightgreen', axis=1, subset=['Max value', 'Log max'])"
   ]
  },
  {
   "cell_type": "code",
   "execution_count": null,
   "metadata": {
    "scrolled": true
   },
   "outputs": [],
   "source": [
    "# draw(False, bo0)"
   ]
  },
  {
   "cell_type": "code",
   "execution_count": null,
   "metadata": {
    "scrolled": false
   },
   "outputs": [],
   "source": [
    "# draw(True, bo0_log)"
   ]
  }
 ],
 "metadata": {
  "kernelspec": {
   "display_name": "Python 2",
   "language": "python",
   "name": "python2"
  },
  "language_info": {
   "codemirror_mode": {
    "name": "ipython",
    "version": 2
   },
   "file_extension": ".py",
   "mimetype": "text/x-python",
   "name": "python",
   "nbconvert_exporter": "python",
   "pygments_lexer": "ipython2",
   "version": "2.7.16"
  }
 },
 "nbformat": 4,
 "nbformat_minor": 2
}
