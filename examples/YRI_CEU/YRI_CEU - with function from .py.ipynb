{
 "cells": [
  {
   "cell_type": "markdown",
   "metadata": {},
   "source": [
    "Переписываю предыдущую логику в bayes.Inference.py"
   ]
  },
  {
   "cell_type": "code",
   "execution_count": 1,
   "metadata": {},
   "outputs": [
    {
     "data": {
      "text/html": [
       "<style>.container { width:90% !important; }</style>"
      ],
      "text/plain": [
       "<IPython.core.display.HTML object>"
      ]
     },
     "metadata": {},
     "output_type": "display_data"
    }
   ],
   "source": [
    "from IPython.core.display import display, HTML\n",
    "display(HTML(\"<style>.container { width:90% !important; }</style>\"))"
   ]
  },
  {
   "cell_type": "code",
   "execution_count": 2,
   "metadata": {},
   "outputs": [],
   "source": [
    "%matplotlib notebook\n",
    "import numpy as np\n",
    "\n",
    "import moments\n",
    "# In demographic_models.py, we've defined a custom model for this problem\n",
    "import demographic_models\n",
    "\n",
    "import gadma\n",
    "\n",
    "import GPy\n",
    "from GPyOpt.methods import BayesianOptimization\n",
    "\n",
    "from functools import partial\n",
    "\n",
    "import pandas as pd\n",
    "\n",
    "import matplotlib.pyplot as plt\n",
    "\n",
    "import sys  \n",
    "sys.path.insert(0, './bayes')\n",
    "sys.path.insert(0, '../examples')\n",
    "import Inference as Inf"
   ]
  },
  {
   "cell_type": "code",
   "execution_count": 3,
   "metadata": {},
   "outputs": [],
   "source": [
    "# Load the data\n",
    "data = moments.Spectrum.from_file('YRI_CEU.fs')"
   ]
  },
  {
   "cell_type": "code",
   "execution_count": 4,
   "metadata": {},
   "outputs": [],
   "source": [
    "upper_bound = np.array([100, 100, 100, 10, 3, 3])\n",
    "lower_bound = np.array([1e-2, 1e-2, 1e-2, 0, 0, 0])"
   ]
  },
  {
   "cell_type": "code",
   "execution_count": 5,
   "metadata": {},
   "outputs": [],
   "source": [
    "def calc(is_log, need_check, parameters_pos, initial_points_num=5, iter_cnt=100, Y_eps=1e-3, max_time=10, max_iter=100, max_steps=100):\n",
    "    tmp = np.array2string(parameters_pos)\n",
    "    \n",
    "    print('Calculation for %s started' % tmp)\n",
    "    \n",
    "    p0 = np.array([[generate_random_value(low_bound, upp_bound) for (low_bound, upp_bound) in zip(lower_bound, upper_bound)]\n",
    "                   for _ in range(initial_points_num)])\n",
    "    if is_log:\n",
    "        p0 = np.log(p0)\n",
    "    bo = BayesianOptimization(f=partial(obj_func, is_log, parameters_pos),\n",
    "                              domain=dom_log[parameters_pos] if is_log else domain[parameters_pos],\n",
    "                              model_type='GP',\n",
    "                              kernel=GPy.kern.Matern52(input_dim=parameters_pos.shape[0]),\n",
    "                              acquisition_type ='EI',\n",
    "                              X=p0,\n",
    "                              ARD=True\n",
    "                             )\n",
    "    \n",
    "    filename = '%d_%s_%s.csv' % (max_time, tmp, 'log' if is_log else '')\n",
    "    eval_filename = EVALS + filename\n",
    "    model_filename = MODELS + filename\n",
    "    \n",
    "    num_steps = 0\n",
    "    while (not need_check) or check_to_stop(bo, iter_cnt, Y_eps):\n",
    "        bo.run_optimization(\n",
    "#                             max_time=max_time,\n",
    "                            max_iter=max_iter, # TODO: В bo.py 0 по дефолту\n",
    "#                             evaluations_file=eval_filename, # models_file=model_filename, report_file='tmp.csv',\n",
    "                            verbosity=True)\n",
    "        num_steps += bo.num_acquisitions\n",
    "        print('\\t Intermediate value %f at %d iter' % (bo.fx_opt, num_steps))\n",
    "        if num_steps >= max_steps:\n",
    "            print('Iterations ended')\n",
    "            break\n",
    "#     bo.run_optimization(max_time=max_time, max_iter=max_iter, eps = tolerance, verbosity=True)\n",
    "    print('\\t Calculation for %s done' % tmp)\n",
    "    return bo"
   ]
  },
  {
   "cell_type": "code",
   "execution_count": 11,
   "metadata": {},
   "outputs": [],
   "source": [
    "def draw(is_log, bo):\n",
    "#     bo.plot_acquisition()\n",
    "    bo.plot_convergence()\n",
    "    \n",
    "    x_opt = np.exp(bo.x_opt) if is_log else bo.x_opt\n",
    "    x_str = np.array2string(x_opt, precision=3, separator=', ', max_line_width=np.inf)\n",
    "    print(f\"The minumum value obtained by the function was {-bo.fx_opt:.4f} \\nx = {x_str}\")"
   ]
  },
  {
   "cell_type": "code",
   "execution_count": 7,
   "metadata": {},
   "outputs": [],
   "source": [
    "func = demographic_models.prior_onegrow_mig"
   ]
  },
  {
   "cell_type": "code",
   "execution_count": 8,
   "metadata": {},
   "outputs": [],
   "source": [
    "bo = Inf.optimize_bayes(data, func, lower_bound, upper_bound, \n",
    "                        max_iter=2,\n",
    "                        kern_func_name='Matern52',\n",
    "                        output_log_file='BOtmp.log')"
   ]
  },
  {
   "cell_type": "code",
   "execution_count": 9,
   "metadata": {},
   "outputs": [],
   "source": [
    "# import gadma\n",
    "\n",
    "# gadma.Inference.optimize_ga(6, data, func,\n",
    "#                             size_of_generation_in_ga=10,\n",
    "#                             lower_bound=lower_bound,\n",
    "#                             upper_bound=upper_bound,\n",
    "#                             output_log_file='GAtmp.log'\n",
    "#                            )"
   ]
  },
  {
   "cell_type": "code",
   "execution_count": 12,
   "metadata": {
    "scrolled": true
   },
   "outputs": [
    {
     "name": "stdout",
     "output_type": "stream",
     "text": [
      "The minumum value obtained by the function was -6264.0510 \n",
      "x = [0.687, 0.091, 3.904, 0.034, 0.006, 0.018]\n"
     ]
    }
   ],
   "source": [
    "draw (True, bo)"
   ]
  }
 ],
 "metadata": {
  "kernelspec": {
   "display_name": "Python 3",
   "language": "python",
   "name": "python3"
  },
  "language_info": {
   "codemirror_mode": {
    "name": "ipython",
    "version": 3
   },
   "file_extension": ".py",
   "mimetype": "text/x-python",
   "name": "python",
   "nbconvert_exporter": "python",
   "pygments_lexer": "ipython3",
   "version": "3.7.3"
  },
  "pycharm": {
   "stem_cell": {
    "cell_type": "raw",
    "metadata": {
     "collapsed": false
    },
    "source": []
   }
  }
 },
 "nbformat": 4,
 "nbformat_minor": 2
}
